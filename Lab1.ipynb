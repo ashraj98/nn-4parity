{
  "nbformat": 4,
  "nbformat_minor": 0,
  "metadata": {
    "colab": {
      "name": "Lab1.ipynb",
      "provenance": [],
      "collapsed_sections": [],
      "authorship_tag": "ABX9TyME5dEYO6wHWOTJesRXu3uw",
      "include_colab_link": true
    },
    "kernelspec": {
      "name": "python3",
      "display_name": "Python 3"
    }
  },
  "cells": [
    {
      "cell_type": "markdown",
      "metadata": {
        "id": "view-in-github",
        "colab_type": "text"
      },
      "source": [
        "<a href=\"https://colab.research.google.com/github/ashraj98/nn-4parity/blob/master/Lab1.ipynb\" target=\"_parent\"><img src=\"https://colab.research.google.com/assets/colab-badge.svg\" alt=\"Open In Colab\"/></a>"
      ]
    },
    {
      "cell_type": "markdown",
      "metadata": {
        "id": "nQ5LnZonylEN"
      },
      "source": [
        "# **Lab 1**\n",
        "## Ashwin Rajgopal\n",
        "\n"
      ]
    },
    {
      "cell_type": "markdown",
      "metadata": {
        "id": "O3MQxaSby2-J"
      },
      "source": [
        "Start off by importing needed libraries. Numpy for matrix math, math for math functions, random for sample order shuffling, tabulate to output the data, and pyplot to plot the data."
      ]
    },
    {
      "cell_type": "code",
      "metadata": {
        "id": "_O2hfBN594UT"
      },
      "source": [
        "import numpy as np\n",
        "import math\n",
        "import random\n",
        "import matplotlib.pyplot as plt\n",
        "from tabulate import tabulate"
      ],
      "execution_count": 1,
      "outputs": []
    },
    {
      "cell_type": "markdown",
      "metadata": {
        "id": "gOSQMWz7zHch"
      },
      "source": [
        "Here, the 16 samples are explicitly defined with their expected output. The samples are reshaped in to matrix to allow for easy matrix math through numpy when training and testing.\n",
        "\n",
        "A bias constant is also declared to allow for matrix math to be done with the bias weights."
      ]
    },
    {
      "cell_type": "code",
      "metadata": {
        "id": "HbEGazj5GJih"
      },
      "source": [
        "samples = [\n",
        "  (np.array([0,0,0,0]).reshape(1,4),1),\n",
        "  (np.array([0,0,0,1]).reshape(1,4),0),\n",
        "  (np.array([0,0,1,0]).reshape(1,4),1),\n",
        "  (np.array([0,0,1,1]).reshape(1,4),0),\n",
        "  (np.array([0,1,0,0]).reshape(1,4),1),\n",
        "  (np.array([0,1,1,0]).reshape(1,4),0),\n",
        "  (np.array([0,1,0,1]).reshape(1,4),0),\n",
        "  (np.array([0,1,1,1]).reshape(1,4),1),\n",
        "  (np.array([1,0,0,0]).reshape(1,4),1),\n",
        "  (np.array([1,0,0,1]).reshape(1,4),0),\n",
        "  (np.array([1,0,1,0]).reshape(1,4),0),\n",
        "  (np.array([1,0,1,1]).reshape(1,4),1),\n",
        "  (np.array([1,1,0,0]).reshape(1,4),0),\n",
        "  (np.array([1,1,0,1]).reshape(1,4),1),\n",
        "  (np.array([1,1,1,0]).reshape(1,4),1),\n",
        "  (np.array([1,1,1,1]).reshape(1,4),0),\n",
        "]\n",
        "\n",
        "bias = np.array([1]).reshape(1,1)"
      ],
      "execution_count": 2,
      "outputs": []
    },
    {
      "cell_type": "markdown",
      "metadata": {
        "id": "EIO1KOANzkNh"
      },
      "source": [
        "Here the sigmoid and sigmoid prime functions are defined. These functions are vectorized using numpy to allow for both functions to be applied to elements in a matrix at once, as opposed to using a loop, which is slower than using numpy vectorized functions."
      ]
    },
    {
      "cell_type": "code",
      "metadata": {
        "id": "4zki-ACVK6jh"
      },
      "source": [
        "def sigmoid(v):\n",
        "  return 1 / (1 + np.exp(-v))\n",
        "\n",
        "def sigmoid_prime(v):\n",
        "  s = sigmoid(v)\n",
        "  return s * (1 - s)"
      ],
      "execution_count": 3,
      "outputs": []
    },
    {
      "cell_type": "markdown",
      "metadata": {
        "id": "VCA2voTLz8sM"
      },
      "source": [
        "This function determines the error for a set of weights and biases based on the samples defined above. The function iterates through each sample, does the forward propogation using the supplied weights, getting an output from 0 to 1 due to the output layer being a sigmoid. The output is then classed to 0 to 1 using .5 as the threshold."
      ]
    },
    {
      "cell_type": "code",
      "metadata": {
        "id": "S8zkP682T8if"
      },
      "source": [
        "def epoch_error(w1, w2, b1, b2):\n",
        "  errors = 0\n",
        "  for x, d in samples:\n",
        "    y_raw = sigmoid(sigmoid(x.dot(w1) + b1).dot(w2) + b2)\n",
        "    y = 0 if y_raw < .5 else 1\n",
        "    errors += abs(d - y)\n",
        "  return errors / len(samples)"
      ],
      "execution_count": 4,
      "outputs": []
    },
    {
      "cell_type": "markdown",
      "metadata": {
        "id": "29Q2JrHH0kED"
      },
      "source": [
        "The train function updates the weights, give a learning rate and a momemtum term. A momentum term of 0 essentially means no momentum, and it is used as the default.\n",
        "\n",
        "`w1` and `b1` correspond to weights and biases for the hidden layer, and `w2` and `b2` are the weights for the output layer.\n",
        "\n",
        "Using a while loop to check when the error threshold has been reached, the actual training is run. Before each iteration, the order of the samples is randomly shuffled, and then the function uses that order to access the samples. For each sample, the forward propogation is run, the output is determined, and then back propogation is run to update the weights.\n",
        "\n",
        "For momentum, the previous delta is saved and multiplied by the alpha term, and added during the weight update.\n",
        "\n",
        "The function returns the number of epochs needed to meet the error threshold."
      ]
    },
    {
      "cell_type": "code",
      "metadata": {
        "id": "8nU2oE8ddgHN"
      },
      "source": [
        "def train(w1, b1, w2, b2, lr = .05, a = 0,):\n",
        "  error = 1\n",
        "  epochs = 0\n",
        "  order = list(range(len(samples)))\n",
        "  while error > .05:\n",
        "    random.shuffle(order)\n",
        "    prev_d_w1 = prev_d_b1 = prev_d_w2 = prev_d_b2 = 0\n",
        "    for idx in order:\n",
        "      x, d = samples[idx]\n",
        "      vj = x.dot(w1) + b1 # (1, 4)\n",
        "      yj = sigmoid(vj) # (1, 4)\n",
        "      vk = yj.dot(w2) + b2 # (1, 1)\n",
        "      yk = sigmoid(vk) # (1, 1)\n",
        "      y = 0 if yk < .5 else 1\n",
        "      ek = d - y\n",
        "      dk = ek * sigmoid_prime(vk) # (1, 1)\n",
        "      dj = sigmoid_prime(vj) * dk.dot(w2.T) # (1, 4)\n",
        "      d_w1 = lr * (x.T.dot(dj))\n",
        "      d_b1 = lr * (bias.T.dot(dj))\n",
        "      d_w2 = lr * (yj.T.dot(dk))\n",
        "      d_b2 = lr * (bias.T.dot(dk))\n",
        "      w1 += d_w1 + (a * prev_d_w1)\n",
        "      b1 += d_b1 + (a * prev_d_b1)\n",
        "      w2 += d_w2 + (a * prev_d_w2)\n",
        "      b2 += d_b2 + (a * prev_d_b2)\n",
        "      prev_d_w1, prev_d_b1, prev_d_w2, prev_d_b2 = d_w1, d_b1, d_w2, d_b2\n",
        "    epochs += 1\n",
        "    error = epoch_error(w1, w2, b1, b2)\n",
        "  return epochs"
      ],
      "execution_count": 5,
      "outputs": []
    },
    {
      "cell_type": "markdown",
      "metadata": {
        "id": "qFIZFMtu2auW"
      },
      "source": [
        "Now the learning rates that need to be tested are specified. The program loops over the learning rates, and runs the training function for each learning rate, once with momentum and once without momentum.\n",
        "\n",
        "Weights are randomly generated using np.random.rand, which generates a random number between 0 and 1. Since we need to use random numbers between -1 and 1, the random distribution is expanded to [0,2] by multiplying by 2, and then lowered to the target range of [-1,1] by subtracting by 1. The same weights are used for each loop so that the results of the learning without momentum and can compared to the learning with momentum.\n",
        "\n"
      ]
    },
    {
      "cell_type": "code",
      "metadata": {
        "id": "JMD-q1xQVj-D",
        "outputId": "040e9508-db88-41aa-83be-560be43fd249",
        "colab": {
          "base_uri": "https://localhost:8080/",
          "height": 233
        }
      },
      "source": [
        "learning_rates = [.05, .1, .15, .2, .25, .3, .35, .4, .45, .5]\n",
        "data = []\n",
        "for lr in learning_rates:\n",
        "  w1 = np.random.rand(4,4) * 2 - 1\n",
        "  b1 = np.random.rand(1,4) * 2 - 1\n",
        "  w2 = np.random.rand(4,1) * 2 - 1\n",
        "  b2 = np.random.rand(1,1) * 2 - 1\n",
        "  w1m = np.copy(w1)\n",
        "  b1m = np.copy(b1)\n",
        "  w2m = np.copy(w2)\n",
        "  b2m = np.copy(b2)\n",
        "  epochs_without_momentum = train(w1, b1, w2, b2, lr)\n",
        "  epochs_with_momentum = train(w1m, b1m, w2m, b2m, lr, .9)\n",
        "  data.append((lr, epochs_without_momentum, epochs_with_momentum))\n",
        "print(tabulate(data, headers=['Learning Rate', 'Epochs Without Momentum', 'Epochs with Momentum = .9']))"
      ],
      "execution_count": 6,
      "outputs": [
        {
          "output_type": "stream",
          "text": [
            "  Learning Rate    Epochs Without Momentum    Epochs with Momentum = .9\n",
            "---------------  -------------------------  ---------------------------\n",
            "           0.05                     140900                       106019\n",
            "           0.1                       12786                        18344\n",
            "           0.15                     186217                        65486\n",
            "           0.2                       30845                        12535\n",
            "           0.25                       3490                         4523\n",
            "           0.3                       17657                         6909\n",
            "           0.35                      12775                        22168\n",
            "           0.4                        9172                         1895\n",
            "           0.45                       6686                         4303\n",
            "           0.5                        6304                         1916\n"
          ],
          "name": "stdout"
        }
      ]
    },
    {
      "cell_type": "markdown",
      "metadata": {
        "id": "UEhusJXB-pxR"
      },
      "source": [
        "The table printed above shows the exact number of epochs for learning with and without momentum at different learning rates."
      ]
    },
    {
      "cell_type": "code",
      "metadata": {
        "id": "iXQSxU9z7vDT",
        "outputId": "e9f20609-a4c7-42fc-a01c-6a62122fbcb7",
        "colab": {
          "base_uri": "https://localhost:8080/",
          "height": 297
        }
      },
      "source": [
        "fig = plt.figure()\n",
        "ax = plt.axes()\n",
        "x_data = [d[0] for d in data]\n",
        "y_nm = [d[1] for d in data]\n",
        "y_m = [d[2] for d in data]\n",
        "ax.plot(x_data, y_nm, '-b', label='No Momentum')\n",
        "ax.plot(x_data, y_m, '-r', label='With Momentum')\n",
        "plt.xlabel('Learning Rate')\n",
        "plt.ylabel('Epochs')\n",
        "plt.legend(loc=\"upper right\")\n"
      ],
      "execution_count": 7,
      "outputs": [
        {
          "output_type": "execute_result",
          "data": {
            "text/plain": [
              "<matplotlib.legend.Legend at 0x7fe81be36048>"
            ]
          },
          "metadata": {
            "tags": []
          },
          "execution_count": 7
        },
        {
          "output_type": "display_data",
          "data": {
            "image/png": "[encoded data removed]",
            "text/plain": [
              "<Figure size 432x288 with 1 Axes>"
            ]
          },
          "metadata": {
            "tags": [],
            "needs_background": "light"
          }
        }
      ]
    },
    {
      "cell_type": "markdown",
      "metadata": {
        "id": "OhQ_KLND-4XQ"
      },
      "source": [
        "The plot above shows that for most cases, momentum helps improve the speed of learning for this algorithm. In some cases, using momentum takes longer. This may be due to momentum overshooting the minimum error. The likelihood of this occurring probably increases as the learning rate increases."
      ]
    }
  ]
}